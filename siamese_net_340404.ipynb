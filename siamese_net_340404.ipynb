{
  "nbformat": 4,
  "nbformat_minor": 0,
  "metadata": {
    "colab": {
      "provenance": [],
      "gpuType": "T4"
    },
    "kernelspec": {
      "name": "python3",
      "display_name": "Python 3"
    },
    "language_info": {
      "name": "python"
    },
    "accelerator": "GPU"
  },
  "cells": [
    {
      "cell_type": "markdown",
      "source": [
        "**Libraries:**"
      ],
      "metadata": {
        "id": "VcvYoZiHJy5c"
      }
    },
    {
      "cell_type": "code",
      "execution_count": 1,
      "metadata": {
        "id": "LJlIHYjiI7pg"
      },
      "outputs": [],
      "source": [
        "import random\n",
        "import os\n",
        "\n",
        "import numpy as np\n",
        "\n",
        "import torch\n",
        "import torch.nn as nn\n",
        "import torch.nn.functional as F\n",
        "import torch.optim as optim\n",
        "import torch.nn.init as init\n",
        "import torchvision.utils as vutils\n",
        "from torch.utils.data import DataLoader, TensorDataset, RandomSampler, Subset, random_split, Dataset\n",
        "from torchvision import datasets, transforms as T, models, utils\n",
        "\n",
        "from matplotlib import pyplot as plt"
      ]
    },
    {
      "cell_type": "markdown",
      "source": [
        "**Path where to save and reload the model**"
      ],
      "metadata": {
        "id": "NHYAHK3nKmFC"
      }
    },
    {
      "cell_type": "code",
      "source": [
        "PATH = './'"
      ],
      "metadata": {
        "id": "zsdhJRJAKmVX"
      },
      "execution_count": 2,
      "outputs": []
    },
    {
      "cell_type": "markdown",
      "source": [
        "**FEW SHOT PARAMETERS:**"
      ],
      "metadata": {
        "id": "LybZPwy0J7kL"
      }
    },
    {
      "cell_type": "code",
      "source": [
        "K_WAY = 10 # Means the support set has K classes, this classes are unseen during training, in this case We exclude K_WAY classes from the original dataset\n",
        "N_SHOT = 1 # Means every class has N sampes\n",
        "N_CLASS = 100 # for cifar100 = 100, cifar10 = 10 etc... if K_WAY == 0 the model learns every class"
      ],
      "metadata": {
        "id": "DJRtEGB0KHrU"
      },
      "execution_count": 3,
      "outputs": []
    },
    {
      "cell_type": "markdown",
      "source": [
        "**Select Triplet Loss Function (Cosine Distance or Euclidean Distance):**"
      ],
      "metadata": {
        "id": "X4s-qXoCKVg4"
      }
    },
    {
      "cell_type": "code",
      "source": [
        "TRIPLET_COSINE = True #True cosine, False Euclidean"
      ],
      "metadata": {
        "id": "6yoDExvgKrtu"
      },
      "execution_count": 4,
      "outputs": []
    },
    {
      "cell_type": "markdown",
      "source": [
        "**Preprocessing dataset:**"
      ],
      "metadata": {
        "id": "gPjISv8uLKaD"
      }
    },
    {
      "cell_type": "code",
      "source": [
        "MEAN = (0.4914, 0.4822, 0.4465)\n",
        "STD = (0.2023, 0.1994, 0.2010)\n",
        "\n",
        "transform = T.Compose([\n",
        "    #T.RandomRotation(degrees=15),  # Modify defree\n",
        "    #T.ColorJitter(brightness=0.2, contrast=0.2, saturation=0.2, hue=0.1),\n",
        "    #T.ElasticTransform(alpha=50.0, sigma=5.0),\n",
        "    #T.RandomCrop(32, padding=4),\n",
        "    T.RandomHorizontalFlip(),\n",
        "    T.ToTensor(),\n",
        "    T.Normalize(MEAN, STD)\n",
        "])"
      ],
      "metadata": {
        "id": "tYmmNmwtK-PT"
      },
      "execution_count": 5,
      "outputs": []
    },
    {
      "cell_type": "markdown",
      "source": [
        "**Custom Arguments class:**"
      ],
      "metadata": {
        "id": "5WDYuNMYUhGg"
      }
    },
    {
      "cell_type": "code",
      "source": [
        "#It's inconvenient to switch to the command line for colab, so I created my own args class\n",
        "class Arguments:\n",
        "    def __init__(self, batch_size=64, test_batch_size=1000, epochs=14, lr=0.001,\n",
        "                 no_cuda=False, no_mps=False, dry_run=False, seed=1,\n",
        "                 log_interval=10, save_model=True):\n",
        "        self.batch_size = batch_size\n",
        "        self.test_batch_size = test_batch_size\n",
        "        self.epochs = epochs\n",
        "        self.lr = lr\n",
        "        self.no_cuda = no_cuda\n",
        "        self.no_mps = no_mps\n",
        "        self.dry_run = dry_run\n",
        "        self.seed = seed\n",
        "        self.log_interval = log_interval\n",
        "        self.save_model = save_model"
      ],
      "metadata": {
        "id": "kkkT8ryBUgAS"
      },
      "execution_count": 6,
      "outputs": []
    },
    {
      "cell_type": "markdown",
      "source": [
        "**ResNet optimized for cifar10/cifar100:**"
      ],
      "metadata": {
        "id": "Wf2Bng2aLoOs"
      }
    },
    {
      "cell_type": "code",
      "source": [
        "def _weights_init(m):\n",
        "    classname = m.__class__.__name__\n",
        "    #print(classname)\n",
        "    if isinstance(m, nn.Linear) or isinstance(m, nn.Conv2d):\n",
        "        init.kaiming_normal_(m.weight)\n",
        "\n",
        "class LambdaLayer(nn.Module):\n",
        "    def __init__(self, lambd):\n",
        "        super(LambdaLayer, self).__init__()\n",
        "        self.lambd = lambd\n",
        "\n",
        "    def forward(self, x):\n",
        "        return self.lambd(x)\n",
        "\n",
        "class BasicBlock(nn.Module):\n",
        "    expansion = 1\n",
        "\n",
        "    def __init__(self, in_planes, planes, stride=1, option='A'):\n",
        "        super(BasicBlock, self).__init__()\n",
        "        self.conv1 = nn.Conv2d(in_planes, planes, kernel_size=3, stride=stride, padding=1, bias=False)\n",
        "        self.bn1 = nn.BatchNorm2d(planes)\n",
        "        self.conv2 = nn.Conv2d(planes, planes, kernel_size=3, stride=1, padding=1, bias=False)\n",
        "        self.bn2 = nn.BatchNorm2d(planes)\n",
        "\n",
        "        self.shortcut = nn.Sequential()\n",
        "        if stride != 1 or in_planes != planes:\n",
        "            if option == 'A':\n",
        "                \"\"\"\n",
        "                For CIFAR10 ResNet paper uses option A.\n",
        "                \"\"\"\n",
        "                self.shortcut = LambdaLayer(lambda x:\n",
        "                                            F.pad(x[:, :, ::2, ::2], (0, 0, 0, 0, planes//4, planes//4), \"constant\", 0))\n",
        "            elif option == 'B':\n",
        "                self.shortcut = nn.Sequential(\n",
        "                     nn.Conv2d(in_planes, self.expansion * planes, kernel_size=1, stride=stride, bias=False),\n",
        "                     nn.BatchNorm2d(self.expansion * planes)\n",
        "                )\n",
        "\n",
        "    def forward(self, x):\n",
        "        out = F.relu(self.bn1(self.conv1(x)))\n",
        "        out = self.bn2(self.conv2(out))\n",
        "        out += self.shortcut(x)\n",
        "        out = F.relu(out)\n",
        "        return out\n",
        "\n",
        "class SiameseNetwork(nn.Module): #ResNet from https://github.com/akamaster/pytorch_resnet_cifar10\n",
        "    def __init__(self, block = BasicBlock, num_blocks = [5, 5, 5]):\n",
        "        super(SiameseNetwork, self).__init__()\n",
        "        self.in_planes = 16\n",
        "\n",
        "        self.conv1 = nn.Conv2d(3, 16, kernel_size=3, stride=1, padding=1, bias=False)\n",
        "        self.bn1 = nn.BatchNorm2d(16)\n",
        "        self.layer1 = self._make_layer(block, 16, num_blocks[0], stride=1)\n",
        "        self.layer2 = self._make_layer(block, 32, num_blocks[1], stride=2)\n",
        "        self.layer3 = self._make_layer(block, 64, num_blocks[2], stride=2)\n",
        "        #self.linear = nn.Linear(64, num_classes)\n",
        "\n",
        "        self.apply(_weights_init)\n",
        "\n",
        "    def _make_layer(self, block, planes, num_blocks, stride):\n",
        "        strides = [stride] + [1]*(num_blocks-1)\n",
        "        layers = []\n",
        "        for stride in strides:\n",
        "            layers.append(block(self.in_planes, planes, stride))\n",
        "            self.in_planes = planes * block.expansion\n",
        "\n",
        "        return nn.Sequential(*layers)\n",
        "\n",
        "    def forward(self, x):\n",
        "        out = F.relu(self.bn1(self.conv1(x)))\n",
        "        out = self.layer1(out)\n",
        "        out = self.layer2(out)\n",
        "        out = self.layer3(out)\n",
        "        out = F.avg_pool2d(out, out.size()[3])\n",
        "        output = out.view(out.size()[0], -1)\n",
        "\n",
        "        return output"
      ],
      "metadata": {
        "id": "0eX46b-lLsKX"
      },
      "execution_count": 7,
      "outputs": []
    },
    {
      "cell_type": "markdown",
      "source": [
        "**Loss Custom Implementation:**"
      ],
      "metadata": {
        "id": "rzhY_pMEMJxv"
      }
    },
    {
      "cell_type": "code",
      "source": [
        "class TripletLoss_Cosine(nn.Module): #for this type of task the cosine distance seems to work much better\n",
        "    def __init__(self, margin=0.3):\n",
        "        super(TripletLoss_Cosine, self).__init__()\n",
        "        self.margin = margin\n",
        "\n",
        "    def forward(self, anchor, positive, negative):\n",
        "        cos_sim_pos = F.cosine_similarity(anchor, positive)\n",
        "        cos_sim_neg = F.cosine_similarity(anchor, negative)\n",
        "        loss = torch.relu(cos_sim_neg - cos_sim_pos + self.margin)\n",
        "        return loss.mean()\n",
        "\n",
        "class TripletLoss_Euclidean(nn.Module):\n",
        "    def __init__(self, margin=1.0):\n",
        "        super(TripletLoss_Euclidean, self).__init__()\n",
        "        self.margin = margin\n",
        "\n",
        "    def forward(self, anchor, positive, negative):\n",
        "        pos_dist = (anchor - positive).pow(2).sum(1)  # Euclidean distance\n",
        "        neg_dist = (anchor - negative).pow(2).sum(1)  # Euclidean distance\n",
        "        loss = torch.relu(pos_dist - neg_dist + self.margin)\n",
        "        return loss.mean()"
      ],
      "metadata": {
        "id": "w9pJLr6qMSWB"
      },
      "execution_count": 8,
      "outputs": []
    },
    {
      "cell_type": "markdown",
      "source": [
        "**Custom Matcher for binary test (img1, img2, label) (label = 1/0):**"
      ],
      "metadata": {
        "id": "TBQr0dFaNCEq"
      }
    },
    {
      "cell_type": "code",
      "source": [
        "class APP_MATCHER_BINARY(Dataset):\n",
        "    def __init__(self, root, train, download=False):\n",
        "        super(APP_MATCHER_BINARY, self).__init__()\n",
        "\n",
        "        # get dataset\n",
        "        self.dataset = datasets.CIFAR100(root, train=train, download=download, transform = transform)\n",
        "        self.data = torch.stack([img for img, _ in self.dataset], dim=0)\n",
        "        self.group_examples()\n",
        "\n",
        "    def group_examples(self):\n",
        "        \"\"\"\n",
        "            To ease the accessibility of data based on the class, we will use `group_examples` to group\n",
        "            examples based on class.\n",
        "\n",
        "            Every key in `grouped_examples` corresponds to a class in CIFAR dataset. For every key in\n",
        "            `grouped_examples`, every value will conform to all of the indices for the CIFAR\n",
        "            dataset examples that correspond to that key.\n",
        "        \"\"\"\n",
        "\n",
        "        # get the targets from CIFAR dataset\n",
        "        np_arr = np.array(self.dataset.targets)\n",
        "\n",
        "        # group examples based on class\n",
        "        self.grouped_examples = {}\n",
        "        for i in range(0, N_CLASS-K_WAY):\n",
        "            self.grouped_examples[i] = np.where((np_arr==i))[0]\n",
        "\n",
        "    def __len__(self):\n",
        "        return self.data.shape[0]\n",
        "\n",
        "    def __getitem__(self, index):\n",
        "\n",
        "        # pick some random class for the first image\n",
        "        selected_class = random.randint(0, N_CLASS-K_WAY-1)\n",
        "        # pick a random index for the first image in the grouped indices based of the label of the class\n",
        "        random_index_1 = random.randint(0, self.grouped_examples[selected_class].shape[0]-1)\n",
        "        # pick the index to get the first image\n",
        "        index_1 = self.grouped_examples[selected_class][random_index_1]\n",
        "        # get the first image\n",
        "        image_1 = self.data[index_1].clone()\n",
        "\n",
        "        # same class\n",
        "        if index % 2 == 0:\n",
        "            # pick a random index for the second image\n",
        "            random_index_2 = random.randint(0, self.grouped_examples[selected_class].shape[0]-1)\n",
        "            # ensure that the index of the second image isn't the same as the first image\n",
        "            while random_index_2 == random_index_1:\n",
        "                random_index_2 = random.randint(0, self.grouped_examples[selected_class].shape[0]-1)\n",
        "            # pick the index to get the second image\n",
        "            index_2 = self.grouped_examples[selected_class][random_index_2]\n",
        "            # get the second image\n",
        "            image_2 = self.data[index_2].clone()\n",
        "            # set the label for this example to be positive (1)\n",
        "            target = torch.tensor(1, dtype=torch.float)\n",
        "\n",
        "        # different class\n",
        "        else:\n",
        "            # pick a random class\n",
        "            other_selected_class = random.randint(0, N_CLASS-K_WAY-1)\n",
        "            # ensure that the class of the second image isn't the same as the first image\n",
        "            while other_selected_class == selected_class:\n",
        "                other_selected_class = random.randint(0, N_CLASS-K_WAY-1)\n",
        "\n",
        "            # pick a random index for the second image in the grouped indices based of the label of the class\n",
        "            random_index_2 = random.randint(0, self.grouped_examples[other_selected_class].shape[0]-1)\n",
        "            # pick the index to get the second image\n",
        "            index_2 = self.grouped_examples[other_selected_class][random_index_2]\n",
        "            # get the second image\n",
        "            image_2 = self.data[index_2].clone()\n",
        "            # set the label for this example to be negative (0)\n",
        "            target = torch.tensor(0, dtype=torch.float)\n",
        "\n",
        "        return image_1, image_2, target"
      ],
      "metadata": {
        "id": "Ga3FOjGLNC9F"
      },
      "execution_count": 9,
      "outputs": []
    },
    {
      "cell_type": "markdown",
      "source": [
        "**Custom Matcher for triplet logic during train (Anchor, Positive, Negative)**:"
      ],
      "metadata": {
        "id": "aQitSFN0MggM"
      }
    },
    {
      "cell_type": "code",
      "source": [
        "class APP_MATCHER(Dataset):\n",
        "    def __init__(self, root, train, download=False):\n",
        "        super(APP_MATCHER, self).__init__()\n",
        "\n",
        "        # get CIFAR dataset\n",
        "        self.dataset = datasets.CIFAR100(root, train=train, download=download, transform = transform)\n",
        "        self.data = torch.stack([img for img, _ in self.dataset], dim=0)\n",
        "        self.group_examples()\n",
        "\n",
        "    def group_examples(self):\n",
        "        \"\"\"\n",
        "            To ease the accessibility of data based on the class, we will use `group_examples` to group\n",
        "            examples based on class.\n",
        "            Every key in `grouped_examples` corresponds to a class in CIFAR dataset. For every key in\n",
        "            `grouped_examples`, every value will conform to all of the indices for the CIFAR\n",
        "            dataset examples that correspond to that key.\n",
        "        \"\"\"\n",
        "\n",
        "        # get the targets from dataset\n",
        "        np_arr = np.array(self.dataset.targets)\n",
        "\n",
        "        # group examples based on class\n",
        "        self.grouped_examples = {}\n",
        "        for i in range(0, N_CLASS-K_WAY):\n",
        "            self.grouped_examples[i] = np.where((np_arr==i))[0]\n",
        "\n",
        "    def __len__(self):\n",
        "        return self.data.shape[0]\n",
        "\n",
        "    def __getitem__(self, index):\n",
        "\n",
        "        ###ANCHOR\n",
        "        selected_class = random.randint(0, N_CLASS-K_WAY-1)\n",
        "        random_index_1 = random.randint(0, self.grouped_examples[selected_class].shape[0]-1)\n",
        "        index_1 = self.grouped_examples[selected_class][random_index_1]\n",
        "        anchor = self.data[index_1].clone()\n",
        "\n",
        "        ###POSITIVE\n",
        "        random_index_2 = random.randint(0, self.grouped_examples[selected_class].shape[0]-1)\n",
        "        while random_index_2 == random_index_1:\n",
        "            random_index_2 = random.randint(0, self.grouped_examples[selected_class].shape[0]-1)\n",
        "        index_2 = self.grouped_examples[selected_class][random_index_2]\n",
        "        positive = self.data[index_2].clone()\n",
        "\n",
        "        ###NEGATIVE\n",
        "        other_selected_class = random.randint(0, N_CLASS-K_WAY-1)\n",
        "        while other_selected_class == selected_class:\n",
        "            other_selected_class = random.randint(0, N_CLASS-K_WAY-1)\n",
        "        random_index_2 = random.randint(0, self.grouped_examples[other_selected_class].shape[0]-1)\n",
        "        index_3 = self.grouped_examples[other_selected_class][random_index_2]\n",
        "        negative = self.data[index_3].clone()\n",
        "\n",
        "        return anchor, positive, negative"
      ],
      "metadata": {
        "id": "5AMKcfCPMq6W"
      },
      "execution_count": 10,
      "outputs": []
    },
    {
      "cell_type": "markdown",
      "source": [
        "**Custom Matcher for support_set and query_set:**"
      ],
      "metadata": {
        "id": "rfwdjWUWNmy5"
      }
    },
    {
      "cell_type": "code",
      "source": [
        "class CIFAR100Subset(Dataset):\n",
        "    def __init__(self, root, train, download=False, few_shot_set = \"support\"):\n",
        "        super(CIFAR100Subset, self).__init__()\n",
        "\n",
        "        # get cifar100 dataset\n",
        "        self.cifar100 = datasets.CIFAR100(root, train=train, download=download, transform = transform)\n",
        "\n",
        "        self.class_to_indices_support = {i: [] for i in range(N_CLASS-K_WAY, N_CLASS)}  #1 example for the last K_WAY classes\n",
        "        self.class_to_indices_query = {i: [] for i in range(N_CLASS-K_WAY, N_CLASS)}  #1 example for the last K_WAY classes\n",
        "\n",
        "        for idx, (_, class_idx) in enumerate(self.cifar100):\n",
        "            if class_idx in self.class_to_indices_support and len(self.class_to_indices_support[class_idx]) < N_SHOT:\n",
        "                self.class_to_indices_support[class_idx].append(idx)\n",
        "\n",
        "            elif class_idx in self.class_to_indices_support: #excludes support images from the query\n",
        "                self.class_to_indices_query[class_idx].append(idx)\n",
        "\n",
        "        if few_shot_set == \"support\":\n",
        "            self.indices = [idx for indices in self.class_to_indices_support.values() for idx in indices]\n",
        "        elif few_shot_set == \"query\":\n",
        "            self.indices = [idx for indices in self.class_to_indices_query.values() for idx in indices]\n",
        "\n",
        "    def __len__(self):\n",
        "        return len(self.indices)\n",
        "\n",
        "    def __getitem__(self, idx):\n",
        "\n",
        "        image, label = self.cifar100[self.indices[idx]]\n",
        "        return image, label"
      ],
      "metadata": {
        "id": "CJ_Ek3M4Nl0j"
      },
      "execution_count": 11,
      "outputs": []
    },
    {
      "cell_type": "markdown",
      "source": [
        "**Train loop:**"
      ],
      "metadata": {
        "id": "C5Idk7HdPCh9"
      }
    },
    {
      "cell_type": "code",
      "source": [
        "def train(args, model, device, train_loader, optimizer, epoch):\n",
        "    model.train()\n",
        "\n",
        "    # DIfferent Loss Functions\n",
        "    if TRIPLET_COSINE:\n",
        "        criterion = TripletLoss_Cosine()\n",
        "    else:\n",
        "        criterion = TripletLoss_Euclidean()\n",
        "\n",
        "    for batch_idx, (anchor, positive, negative) in enumerate(train_loader):\n",
        "\n",
        "        anchor, positive, negative = anchor.to(device), positive.to(device), negative.to(device)\n",
        "        optimizer.zero_grad()\n",
        "\n",
        "        anchor_output = model(anchor)\n",
        "        positive_output = model(positive)\n",
        "        negative_output = model(negative)\n",
        "\n",
        "        loss = criterion(anchor_output, positive_output, negative_output)\n",
        "        loss.backward()\n",
        "        optimizer.step()\n",
        "        if batch_idx % args.log_interval == 0:\n",
        "            print('Train Epoch: {} [{}/{} ({:.0f}%)]\\tLoss: {:.6f}'.format(\n",
        "                epoch, batch_idx * len(anchor), len(train_loader.dataset),\n",
        "                100. * batch_idx / len(train_loader), loss.item()))\n",
        "            if args.dry_run:\n",
        "                break"
      ],
      "metadata": {
        "id": "PMoQx5n6PHbD"
      },
      "execution_count": 12,
      "outputs": []
    },
    {
      "cell_type": "markdown",
      "source": [
        "** **testo in grassetto**Calculate test point embeddings:**"
      ],
      "metadata": {
        "id": "mdUkg89rPby_"
      }
    },
    {
      "cell_type": "code",
      "source": [
        "def test(model, device, test_loader):\n",
        "    model.eval()\n",
        "    correct = 0\n",
        "    total = 0\n",
        "\n",
        "    with torch.no_grad():\n",
        "        for batch_idx, (test_anchor, test_positive, test_negative) in enumerate(test_loader):\n",
        "            test_anchor, test_positive, test_negative = test_anchor.to(device), test_positive.to(device), test_negative.to(device)\n",
        "\n",
        "            test_anchor_output = model(test_anchor)\n",
        "            test_positive_output = model(test_positive)\n",
        "            test_negative_output = model(test_negative)\n",
        "\n",
        "            #default: cosine similarity\n",
        "            if TRIPLET_COSINE:\n",
        "                dist_pos = F.cosine_similarity(test_anchor_output, test_positive_output, dim=1)\n",
        "                dist_neg = F.cosine_similarity(test_anchor_output, test_negative_output, dim=1)\n",
        "\n",
        "                correct += torch.sum(dist_pos > dist_neg).item()\n",
        "                total += len(test_anchor)\n",
        "            else:\n",
        "                dist_pos = torch.norm(test_anchor_output - test_positive_output, dim=1)\n",
        "                dist_neg = torch.norm(test_anchor_output - test_negative_output, dim=1)\n",
        "\n",
        "                correct += torch.sum(dist_pos < dist_neg).item()\n",
        "                total += len(test_anchor)\n",
        "\n",
        "    # Count how many triplets were classified correctly\n",
        "    accuracy = 100.0 * correct / total\n",
        "    print('Test Accuracy: {:.2f}%'.format(accuracy))"
      ],
      "metadata": {
        "id": "9Dhx3qzZPqgj"
      },
      "execution_count": 13,
      "outputs": []
    },
    {
      "cell_type": "markdown",
      "source": [
        "**Binary test accuracy given two images:**"
      ],
      "metadata": {
        "id": "V4Jfon9VSPzw"
      }
    },
    {
      "cell_type": "code",
      "source": [
        "def binary_test(model, device, test_loader):\n",
        "    model.eval()\n",
        "    correct = 0\n",
        "    total = 0\n",
        "\n",
        "    with torch.no_grad():\n",
        "        for (images_1, images_2, targets) in test_loader:\n",
        "\n",
        "            images_1, images_2, targets = images_1.to(device), images_2.to(device), targets.to(device)\n",
        "\n",
        "            output1 = model(images_1)\n",
        "            output2 = model(images_2)\n",
        "            # Predict whether images belong to the same class or not\n",
        "            if TRIPLET_COSINE:\n",
        "                distance = F.cosine_similarity(output1, output2, dim=1)\n",
        "                pred = (distance > 0.2).to(torch.float32) #forse la distance è 0.4\n",
        "            else:\n",
        "                '''\n",
        "                1.0 proved to be an insufficiently accurate threshold,\n",
        "                I didn't look for a better value because the cosine distance\n",
        "                proved to be better right from the start, I still wanted\n",
        "                to give the user a choice\n",
        "                '''\n",
        "                distance = torch.norm(output1 - output2, dim=1)\n",
        "                pred = (distance <=1.0).to(torch.float32)\n",
        "\n",
        "            # calculates how many pairs of images were classified correctly\n",
        "            correct += torch.sum(pred == targets).item()\n",
        "            total += len(images_1)\n",
        "\n",
        "    accuracy = 100.0 * correct / total\n",
        "    print('Binary Test Accuracy: {:.2f}%'.format(accuracy))"
      ],
      "metadata": {
        "id": "_1poA8V6Si-L"
      },
      "execution_count": 14,
      "outputs": []
    },
    {
      "cell_type": "markdown",
      "source": [
        "**Few-Shot Test accuracy (no learned images):**"
      ],
      "metadata": {
        "id": "WPnrRhgRTPZG"
      }
    },
    {
      "cell_type": "code",
      "source": [
        "def few_shot_test(model, device, support_loader, query_loader):\n",
        "    model.eval()\n",
        "    correct = 0\n",
        "    total = 0\n",
        "    list_accuracy = []\n",
        "\n",
        "    with torch.no_grad():\n",
        "\n",
        "        for i, (img_support, targets_support) in enumerate(support_loader):\n",
        "            img_support_batch1 = img_support\n",
        "            targets_support_batch1 = targets_support\n",
        "\n",
        "            img_query, targets_query = next(iter(query_loader))\n",
        "\n",
        "            if img_support.size(0) == 1:\n",
        "                img_support= img_support_batch1.repeat(img_query.size(0), 1, 1, 1)\n",
        "                targets_support = targets_support_batch1.repeat(targets_query.size(0), 1, 1, 1).squeeze()# example: from torch.Size([1, 1, 1, 990]) to torch.Size([990])\n",
        "\n",
        "            elif img_support.size(0) != img_query.size(0):\n",
        "                img_support= img_support_batch1.repeat(img_query.size(0), 1, 1, 1)\n",
        "                targets_support = targets_support_batch1.repeat(targets_query.size(0), 1, 1, 1).squeeze()# example: from torch.Size([1, 1, 1, 990]) to torch.Size([990])\n",
        "\n",
        "            img_support, img_query, targets_support, targets_query = img_support.to(device), img_query.to(device), targets_support.to(device), targets_query.to(device)\n",
        "\n",
        "            '''\n",
        "            plt.figure(figsize=(8,8))\n",
        "            plt.axis(\"off\")\n",
        "            plt.title(\"\")\n",
        "            plt.imshow(np.transpose(vutils.make_grid(img_support.to(device)[:3], padding=2, normalize=True).cpu(),(1,2,0)))\n",
        "            plt.show()\n",
        "\n",
        "            plt.figure(figsize=(8,8))\n",
        "            plt.axis(\"off\")\n",
        "            plt.title(\"\")\n",
        "            plt.imshow(np.transpose(vutils.make_grid(img_query.to(device)[:3], padding=2, normalize=True).cpu(),(1,2,0)))\n",
        "            plt.show()\n",
        "            '''\n",
        "\n",
        "            output1 = model(img_query)\n",
        "            output2 = model(img_support)\n",
        "\n",
        "            targets = (targets_support == targets_query).float()\n",
        "\n",
        "            # Predict whether images belong to the same class or not\n",
        "            if TRIPLET_COSINE:\n",
        "                distance = F.cosine_similarity(output1, output2, dim=1)\n",
        "                pred = (distance > 0.2).to(torch.float32) #forse la distance è 0.4\n",
        "            else:\n",
        "                distance = torch.norm(output1 - output2, dim=1)\n",
        "                pred = (distance <=1.0).to(torch.float32)\n",
        "\n",
        "            correct += torch.sum(pred == targets).item()\n",
        "            total += len(img_support)\n",
        "\n",
        "            accuracy = 100.0 * correct / total\n",
        "            list_accuracy.append(accuracy)\n",
        "\n",
        "            print('Binary Test Accuracy Few Shot Class [{:d}]: {:.2f}%'.format(i+N_CLASS-K_WAY, accuracy))\n",
        "        print(f\"- Mean Few Shot accuracy: {sum(list_accuracy)/len(list_accuracy)}\")\n",
        "        print()"
      ],
      "metadata": {
        "id": "ZItziZYSTWiA"
      },
      "execution_count": 19,
      "outputs": []
    },
    {
      "cell_type": "markdown",
      "source": [
        "**Load datasets:**"
      ],
      "metadata": {
        "id": "w8ABz8x5TpcJ"
      }
    },
    {
      "cell_type": "code",
      "source": [
        "# Training settings\n",
        "batch_size = 128 #input batch size for training (default: 128)\n",
        "test_batch_size = 1000 #input batch size for testing (default: 1000)\n",
        "test_batch_size_binary = 1000 #input batch size for testing (default: 1000)\n",
        "epochs = 150 #number of epochs to train (default: 150)\n",
        "lr = 0.001 #learning rate (default: 0.001)\n",
        "no_cuda = False #disables CUDA training\n",
        "no_mps = False #disables macOS GPU training\n",
        "dry_run = False #quickly check a single pass\n",
        "seed = 1 #random seed (default: 1)\n",
        "log_interval = 10 #how many batches to wait before logging training status\n",
        "save_model = True #For Saving the current Model\n",
        "\n",
        "args = Arguments(batch_size=batch_size, test_batch_size=test_batch_size, epochs=epochs, lr=lr,\n",
        "                  no_cuda=no_cuda, no_mps=no_mps, dry_run=dry_run, seed=seed,\n",
        "                  log_interval=log_interval, save_model=save_model)\n",
        "\n",
        "use_cuda = not args.no_cuda and torch.cuda.is_available()\n",
        "use_mps = not args.no_mps and torch.backends.mps.is_available()\n",
        "\n",
        "torch.manual_seed(args.seed)\n",
        "\n",
        "if use_cuda:\n",
        "    device = torch.device(\"cuda\")\n",
        "elif use_mps:\n",
        "    device = torch.device(\"mps\")\n",
        "else:\n",
        "    device = torch.device(\"cpu\")\n",
        "\n",
        "if(K_WAY > 0):\n",
        "    support_dataset = CIFAR100Subset('../data', train=False, download=True, few_shot_set = \"support\")\n",
        "    support_loader = torch.utils.data.DataLoader(support_dataset, batch_size=1)\n",
        "\n",
        "    query_dataset = CIFAR100Subset('../data', train=False, download=True, few_shot_set = \"query\")\n",
        "    query_loader = torch.utils.data.DataLoader(query_dataset, batch_size=test_batch_size_binary, shuffle=True)\n",
        "\n",
        "train_dataset = APP_MATCHER('../data', train=True, download=True)\n",
        "train_loader = torch.utils.data.DataLoader(train_dataset, shuffle = True, batch_size = args.batch_size)\n",
        "\n",
        "test_dataset = APP_MATCHER('../data', train=False)\n",
        "test_loader = torch.utils.data.DataLoader(test_dataset, shuffle = True, batch_size = args.test_batch_size)\n",
        "\n",
        "test_dataset_binary = APP_MATCHER_BINARY('../data', train=False)\n",
        "test_loader_binary = torch.utils.data.DataLoader(test_dataset_binary, shuffle = True, batch_size = test_batch_size_binary)\n",
        "\n",
        "\n",
        "#model = SiameseNetwork(num_blocks = [5, 5, 5]).to(device) #ResNet32\n",
        "#model = SiameseNetwork(num_blocks = [7, 7, 7]).to(device) #ResNet44\n",
        "model = SiameseNetwork(num_blocks = [9, 9, 9]).to(device) #ResNet56 Better\n",
        "optimizer = optim.Adam(model.parameters(), lr=args.lr)\n",
        "n_epoch = 1\n",
        "\n",
        "#Resume Training\n",
        "if os.path.exists(PATH+\"siamese_network.pth\"):\n",
        "    checkpoint = torch.load(path)\n",
        "\n",
        "    model.load_state_dict(checkpoint['model_state_dict'])\n",
        "    optimizer.load_state_dict(checkpoint['optimizer_state_dict'])\n",
        "    n_epoch = checkpoint['epoch']\n",
        "\n",
        "    print(\"- Checkpoint found, I resume training\")\n",
        "else:\n",
        "    print(\"- A pre-trained model was not found, I proceed with new training.\")"
      ],
      "metadata": {
        "colab": {
          "base_uri": "https://localhost:8080/"
        },
        "id": "FWNPYUlDTpA_",
        "outputId": "489e0b1c-d4ae-4bdc-9b02-fe93959bf2bc"
      },
      "execution_count": 17,
      "outputs": [
        {
          "output_type": "stream",
          "name": "stdout",
          "text": [
            "Downloading https://www.cs.toronto.edu/~kriz/cifar-100-python.tar.gz to ../data/cifar-100-python.tar.gz\n"
          ]
        },
        {
          "output_type": "stream",
          "name": "stderr",
          "text": [
            "100%|██████████| 169001437/169001437 [00:03<00:00, 49021548.40it/s]\n"
          ]
        },
        {
          "output_type": "stream",
          "name": "stdout",
          "text": [
            "Extracting ../data/cifar-100-python.tar.gz to ../data\n",
            "Files already downloaded and verified\n",
            "Files already downloaded and verified\n",
            "- A pre-trained model was not found, I proceed with new training.\n"
          ]
        }
      ]
    },
    {
      "cell_type": "markdown",
      "source": [
        "**Plot datasets:**"
      ],
      "metadata": {
        "id": "SYArUwesn7Jb"
      }
    },
    {
      "cell_type": "code",
      "source": [
        "'''\n",
        "train_loader\n",
        "test_loader\n",
        "test_loader_binary\n",
        "support_loader\n",
        "query_loader\n",
        "'''\n",
        "\n",
        "anchor, positive, negative = next(iter(train_loader))\n",
        "\n",
        "plt.figure(figsize=(15, 8))\n",
        "\n",
        "# Plot Anchor\n",
        "plt.subplot(1, 3, 1)\n",
        "plt.axis(\"off\")\n",
        "plt.title(\"Anchor\")\n",
        "plt.imshow(np.transpose(vutils.make_grid(anchor[:3], padding=2, normalize=True).cpu(), (1, 2, 0)))\n",
        "\n",
        "# Plot Positive\n",
        "plt.subplot(1, 3, 2)\n",
        "plt.axis(\"off\")\n",
        "plt.title(\"Positive\")\n",
        "plt.imshow(np.transpose(vutils.make_grid(positive[:3], padding=2, normalize=True).cpu(), (1, 2, 0)))\n",
        "\n",
        "# Plot Negative\n",
        "plt.subplot(1, 3, 3)\n",
        "plt.axis(\"off\")\n",
        "plt.title(\"Negative\")\n",
        "plt.imshow(np.transpose(vutils.make_grid(negative[:3], padding=2, normalize=True).cpu(), (1, 2, 0)))\n",
        "\n",
        "plt.show()"
      ],
      "metadata": {
        "colab": {
          "base_uri": "https://localhost:8080/",
          "height": 177
        },
        "id": "ELkOUWKvj2N1",
        "outputId": "2e7763dc-18d2-42db-a5f3-a9bbffe4287c"
      },
      "execution_count": 20,
      "outputs": [
        {
          "output_type": "display_data",
          "data": {
            "text/plain": [
              "<Figure size 1500x800 with 3 Axes>"
            ],
            "image/png": "[encoded data removed]"
          },
          "metadata": {}
        }
      ]
    },
    {
      "cell_type": "markdown",
      "source": [
        "**Let's Train:**"
      ],
      "metadata": {
        "id": "T_Gl8_L6qrT4"
      }
    },
    {
      "cell_type": "code",
      "source": [
        "for epoch in range(n_epoch, args.epochs + 1):\n",
        "    #TRAIN\n",
        "    train(args, model, device, train_loader, optimizer, epoch)\n",
        "\n",
        "    if epoch % 25 == 0:\n",
        "        #TEST\n",
        "        test(model, device, test_loader)\n",
        "        binary_test(model, device, test_loader_binary)\n",
        "        if(K_WAY > 0):\n",
        "            few_shot_test(model, device, support_loader, query_loader)\n",
        "\n",
        "        #saving a checkpoint every 25 epochs\n",
        "        if args.save_model:\n",
        "            path = PATH + f\"siamese_network_{epoch}.pth\"\n",
        "            path_fast_load = PATH + f\"siamese_network.pth\"\n",
        "\n",
        "            checkpoint = {\n",
        "                'model_state_dict': model.state_dict(),\n",
        "                'optimizer_state_dict': optimizer.state_dict(),\n",
        "                'epoch': epoch+1,\n",
        "            }\n",
        "\n",
        "            torch.save(checkpoint, path)\n",
        "            torch.save(checkpoint, path_fast_load) #for fast load\n",
        "\n",
        "            print(\"- Checkpoint saved successfully\")"
      ],
      "metadata": {
        "id": "5xlB9hbonqCN",
        "colab": {
          "base_uri": "https://localhost:8080/",
          "height": 459
        },
        "outputId": "4a0ec271-411e-4a69-8534-08e530891553"
      },
      "execution_count": 22,
      "outputs": [
        {
          "output_type": "stream",
          "name": "stdout",
          "text": [
            "Train Epoch: 1 [0/50000 (0%)]\tLoss: 0.291958\n",
            "Train Epoch: 1 [1280/50000 (3%)]\tLoss: 0.250231\n",
            "Train Epoch: 1 [2560/50000 (5%)]\tLoss: 0.267637\n",
            "Train Epoch: 1 [3840/50000 (8%)]\tLoss: 0.298239\n"
          ]
        },
        {
          "output_type": "error",
          "ename": "KeyboardInterrupt",
          "evalue": "",
          "traceback": [
            "\u001b[0;31m---------------------------------------------------------------------------\u001b[0m",
            "\u001b[0;31mKeyboardInterrupt\u001b[0m                         Traceback (most recent call last)",
            "\u001b[0;32m<ipython-input-22-6060ef38ba0a>\u001b[0m in \u001b[0;36m<cell line: 1>\u001b[0;34m()\u001b[0m\n\u001b[1;32m      1\u001b[0m \u001b[0;32mfor\u001b[0m \u001b[0mepoch\u001b[0m \u001b[0;32min\u001b[0m \u001b[0mrange\u001b[0m\u001b[0;34m(\u001b[0m\u001b[0mn_epoch\u001b[0m\u001b[0;34m,\u001b[0m \u001b[0margs\u001b[0m\u001b[0;34m.\u001b[0m\u001b[0mepochs\u001b[0m \u001b[0;34m+\u001b[0m \u001b[0;36m1\u001b[0m\u001b[0;34m)\u001b[0m\u001b[0;34m:\u001b[0m\u001b[0;34m\u001b[0m\u001b[0;34m\u001b[0m\u001b[0m\n\u001b[1;32m      2\u001b[0m     \u001b[0;31m#TRAIN\u001b[0m\u001b[0;34m\u001b[0m\u001b[0;34m\u001b[0m\u001b[0m\n\u001b[0;32m----> 3\u001b[0;31m     \u001b[0mtrain\u001b[0m\u001b[0;34m(\u001b[0m\u001b[0margs\u001b[0m\u001b[0;34m,\u001b[0m \u001b[0mmodel\u001b[0m\u001b[0;34m,\u001b[0m \u001b[0mdevice\u001b[0m\u001b[0;34m,\u001b[0m \u001b[0mtrain_loader\u001b[0m\u001b[0;34m,\u001b[0m \u001b[0moptimizer\u001b[0m\u001b[0;34m,\u001b[0m \u001b[0mepoch\u001b[0m\u001b[0;34m)\u001b[0m\u001b[0;34m\u001b[0m\u001b[0;34m\u001b[0m\u001b[0m\n\u001b[0m\u001b[1;32m      4\u001b[0m \u001b[0;34m\u001b[0m\u001b[0m\n\u001b[1;32m      5\u001b[0m     \u001b[0;32mif\u001b[0m \u001b[0mepoch\u001b[0m \u001b[0;34m%\u001b[0m \u001b[0;36m25\u001b[0m \u001b[0;34m==\u001b[0m \u001b[0;36m0\u001b[0m\u001b[0;34m:\u001b[0m\u001b[0;34m\u001b[0m\u001b[0;34m\u001b[0m\u001b[0m\n",
            "\u001b[0;32m<ipython-input-12-04d5ce965311>\u001b[0m in \u001b[0;36mtrain\u001b[0;34m(args, model, device, train_loader, optimizer, epoch)\u001b[0m\n\u001b[1;32m     18\u001b[0m \u001b[0;34m\u001b[0m\u001b[0m\n\u001b[1;32m     19\u001b[0m         \u001b[0mloss\u001b[0m \u001b[0;34m=\u001b[0m \u001b[0mcriterion\u001b[0m\u001b[0;34m(\u001b[0m\u001b[0manchor_output\u001b[0m\u001b[0;34m,\u001b[0m \u001b[0mpositive_output\u001b[0m\u001b[0;34m,\u001b[0m \u001b[0mnegative_output\u001b[0m\u001b[0;34m)\u001b[0m\u001b[0;34m\u001b[0m\u001b[0;34m\u001b[0m\u001b[0m\n\u001b[0;32m---> 20\u001b[0;31m         \u001b[0mloss\u001b[0m\u001b[0;34m.\u001b[0m\u001b[0mbackward\u001b[0m\u001b[0;34m(\u001b[0m\u001b[0;34m)\u001b[0m\u001b[0;34m\u001b[0m\u001b[0;34m\u001b[0m\u001b[0m\n\u001b[0m\u001b[1;32m     21\u001b[0m         \u001b[0moptimizer\u001b[0m\u001b[0;34m.\u001b[0m\u001b[0mstep\u001b[0m\u001b[0;34m(\u001b[0m\u001b[0;34m)\u001b[0m\u001b[0;34m\u001b[0m\u001b[0;34m\u001b[0m\u001b[0m\n\u001b[1;32m     22\u001b[0m         \u001b[0;32mif\u001b[0m \u001b[0mbatch_idx\u001b[0m \u001b[0;34m%\u001b[0m \u001b[0margs\u001b[0m\u001b[0;34m.\u001b[0m\u001b[0mlog_interval\u001b[0m \u001b[0;34m==\u001b[0m \u001b[0;36m0\u001b[0m\u001b[0;34m:\u001b[0m\u001b[0;34m\u001b[0m\u001b[0;34m\u001b[0m\u001b[0m\n",
            "\u001b[0;32m/usr/local/lib/python3.10/dist-packages/torch/_tensor.py\u001b[0m in \u001b[0;36mbackward\u001b[0;34m(self, gradient, retain_graph, create_graph, inputs)\u001b[0m\n\u001b[1;32m    490\u001b[0m                 \u001b[0minputs\u001b[0m\u001b[0;34m=\u001b[0m\u001b[0minputs\u001b[0m\u001b[0;34m,\u001b[0m\u001b[0;34m\u001b[0m\u001b[0;34m\u001b[0m\u001b[0m\n\u001b[1;32m    491\u001b[0m             )\n\u001b[0;32m--> 492\u001b[0;31m         torch.autograd.backward(\n\u001b[0m\u001b[1;32m    493\u001b[0m             \u001b[0mself\u001b[0m\u001b[0;34m,\u001b[0m \u001b[0mgradient\u001b[0m\u001b[0;34m,\u001b[0m \u001b[0mretain_graph\u001b[0m\u001b[0;34m,\u001b[0m \u001b[0mcreate_graph\u001b[0m\u001b[0;34m,\u001b[0m \u001b[0minputs\u001b[0m\u001b[0;34m=\u001b[0m\u001b[0minputs\u001b[0m\u001b[0;34m\u001b[0m\u001b[0;34m\u001b[0m\u001b[0m\n\u001b[1;32m    494\u001b[0m         )\n",
            "\u001b[0;32m/usr/local/lib/python3.10/dist-packages/torch/autograd/__init__.py\u001b[0m in \u001b[0;36mbackward\u001b[0;34m(tensors, grad_tensors, retain_graph, create_graph, grad_variables, inputs)\u001b[0m\n\u001b[1;32m    249\u001b[0m     \u001b[0;31m# some Python versions print out the first line of a multi-line function\u001b[0m\u001b[0;34m\u001b[0m\u001b[0;34m\u001b[0m\u001b[0m\n\u001b[1;32m    250\u001b[0m     \u001b[0;31m# calls in the traceback and some print out the last line\u001b[0m\u001b[0;34m\u001b[0m\u001b[0;34m\u001b[0m\u001b[0m\n\u001b[0;32m--> 251\u001b[0;31m     Variable._execution_engine.run_backward(  # Calls into the C++ engine to run the backward pass\n\u001b[0m\u001b[1;32m    252\u001b[0m         \u001b[0mtensors\u001b[0m\u001b[0;34m,\u001b[0m\u001b[0;34m\u001b[0m\u001b[0;34m\u001b[0m\u001b[0m\n\u001b[1;32m    253\u001b[0m         \u001b[0mgrad_tensors_\u001b[0m\u001b[0;34m,\u001b[0m\u001b[0;34m\u001b[0m\u001b[0;34m\u001b[0m\u001b[0m\n",
            "\u001b[0;31mKeyboardInterrupt\u001b[0m: "
          ]
        }
      ]
    }
  ]
}